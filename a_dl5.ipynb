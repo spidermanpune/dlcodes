{
 "cells": [
  {
   "cell_type": "code",
   "execution_count": 1,
   "id": "368c6d0b",
   "metadata": {},
   "outputs": [],
   "source": [
    "# IMPORTING LIBRARIES\n",
    "\n",
    "import matplotlib.pyplot as plt\n",
    "import seaborn as sns\n",
    "import matplotlib as mpl\n",
    "import matplotlib.pylab as pylab\n",
    "import numpy as np\n",
    "%matplotlib inline"
   ]
  },
  {
   "cell_type": "code",
   "execution_count": 3,
   "id": "d3e9be64",
   "metadata": {},
   "outputs": [],
   "source": [
    "#DATA PREP\n",
    "import re\n",
    "sentences = \"\"\"We are about to study the idea of a computational \n",
    "process.\n",
    "Computational processes are abstract beings that inhabit computers.\n",
    "As they evolve, processes manipulate other abstract things called \n",
    "data.\n",
    "The evolution of a process is directed by a pattern of rules\n",
    "called a program. People create programs to direct processes. In \n",
    "effect,\n",
    "we conjure the spirits of the computer with our spells.\"\"\""
   ]
  },
  {
   "cell_type": "code",
   "execution_count": 6,
   "id": "968d82b7",
   "metadata": {},
   "outputs": [],
   "source": [
    "# CLEAN DATA\n",
    "\n",
    "# remove special characters\n",
    "sentences = re.sub('[^A-Za-z0-9]+', ' ', sentences)\n",
    "# remove 1 letter words\n",
    "sentences = re.sub(r'(?:^| )\\w(?:$| )', ' ', sentences).strip()\n",
    "# lower all characters\n",
    "sentences = sentences.lower()\n",
    "\n",
    "# Vocabulary\n",
    "words = sentences.split()\n",
    "vocab = set(words)\n",
    "vocab_size = len(vocab)\n",
    "embed_dim = 10\n",
    "context_size = 2\n"
   ]
  },
  {
   "cell_type": "code",
   "execution_count": 9,
   "id": "c76dee67",
   "metadata": {},
   "outputs": [
    {
     "name": "stdout",
     "output_type": "stream",
     "text": [
      "[(['we', 'are', 'to', 'study'], 'about'), (['are', 'about', 'study', 'the'], 'to'), (['about', 'to', 'the', 'idea'], 'study'), (['to', 'study', 'idea', 'of'], 'the'), (['study', 'the', 'of', 'computational'], 'idea')]\n"
     ]
    }
   ],
   "source": [
    "# IMPLEMENTATION\n",
    "\n",
    "word_to_ix = {word: i for i, word in enumerate(vocab)}\n",
    "ix_to_word = {i: word for i, word in enumerate(vocab)}\n",
    "\n",
    "#Data bags\n",
    "# data - [(context), target]\n",
    "data = []\n",
    "for i in range(2, len(words) - 2):\n",
    " context = [words[i - 2], words[i - 1], words[i + 1], words[i + 2]]\n",
    " target = words[i]\n",
    " data.append((context, target))\n",
    "print(data[:5])\n",
    "\n"
   ]
  },
  {
   "cell_type": "code",
   "execution_count": 13,
   "id": "c429073a",
   "metadata": {},
   "outputs": [],
   "source": [
    "# EMBEDDINGS\n",
    "\n",
    "embeddings = np.random.random_sample((vocab_size, embed_dim))\n",
    "#Linear Model\n",
    "def linear(m, theta):\n",
    " w = theta\n",
    " return m.dot(w)\n",
    "# Logsoftmax + NLLloss = Cross Entropy\n",
    "def log_softmax(x):\n",
    " e_x = np.exp(x - np.max(x))\n",
    " return np.log(e_x / e_x.sum())\n",
    "def NLLLoss(logs, targets):\n",
    " out = logs[range(len(targets)), targets]\n",
    " return -out.sum()/len(out)\n",
    "def log_softmax_crossentropy_with_logits(logits,target):\n",
    " out = np.zeros_like(logits)\n",
    " out[np.arange(len(logits)),target] = 1\n",
    " \n",
    " softmax = np.exp(logits) / np.exp(logits).sum(axis=-1,keepdims=True)\n",
    " \n",
    " return (- out + softmax) / logits.shape[0]"
   ]
  },
  {
   "cell_type": "code",
   "execution_count": 14,
   "id": "e7612784",
   "metadata": {},
   "outputs": [],
   "source": [
    "# Forward function\n",
    "def forward(context_idxs, theta):\n",
    " m = embeddings[context_idxs].reshape(1, -1)\n",
    " n = linear(m, theta)\n",
    " o = log_softmax(n)\n",
    " \n",
    " return m, n, o\n",
    "#Backward function\n",
    "def backward(preds, theta, target_idxs):\n",
    " m, n, o = preds\n",
    " \n",
    " dlog = log_softmax_crossentropy_with_logits(n, target_idxs)\n",
    " dw = m.T.dot(dlog)\n",
    " \n",
    " return dw"
   ]
  },
  {
   "cell_type": "code",
   "execution_count": 15,
   "id": "8444c825",
   "metadata": {},
   "outputs": [],
   "source": [
    "#Optimize function\n",
    "def optimize(theta, grad, lr=0.03):\n",
    " theta -= grad * lr\n",
    " return theta"
   ]
  },
  {
   "cell_type": "code",
   "execution_count": 16,
   "id": "2132a8c2",
   "metadata": {},
   "outputs": [],
   "source": [
    "# Training\n",
    "\n",
    "#Genrate training data\n",
    "theta = np.random.uniform(-1, 1, (2 * context_size * embed_dim, \n",
    "vocab_size))\n",
    "epoch_losses = {}\n",
    "for epoch in range(80):\n",
    " losses = []\n",
    " for context, target in data:\n",
    "     context_idxs = np.array([word_to_ix[w] for w in context])\n",
    "     preds = forward(context_idxs, theta)\n",
    "     target_idxs = np.array([word_to_ix[target]])\n",
    "     loss = NLLLoss(preds[-1], target_idxs)\n",
    "     losses.append(loss)\n",
    "     grad = backward(preds, theta, target_idxs)\n",
    "     theta = optimize(theta, grad, lr=0.03)\n",
    "     epoch_losses[epoch] = losses"
   ]
  },
  {
   "cell_type": "code",
   "execution_count": 19,
   "id": "e575027c",
   "metadata": {},
   "outputs": [
    {
     "data": {
      "text/plain": [
       "Text(0, 0.5, 'Losses')"
      ]
     },
     "execution_count": 19,
     "metadata": {},
     "output_type": "execute_result"
    },
    {
     "data": {
      "image/png": "[encoded data removed]",
      "text/plain": [
       "<Figure size 432x288 with 1 Axes>"
      ]
     },
     "metadata": {
      "needs_background": "light"
     },
     "output_type": "display_data"
    }
   ],
   "source": [
    "#Analyze\n",
    "#lot loss/epoch\n",
    "ix = np.arange(0,80)\n",
    "fig = plt.figure()\n",
    "fig.suptitle('Epoch/Losses', fontsize=20)\n",
    "plt.plot(ix,[epoch_losses[i][0] for i in ix])\n",
    "plt.xlabel('Epochs', fontsize=12)\n",
    "plt.ylabel('Losses', fontsize=12)\n"
   ]
  },
  {
   "cell_type": "code",
   "execution_count": 20,
   "id": "37d93b44",
   "metadata": {},
   "outputs": [],
   "source": [
    "#Predict function\n",
    "\n",
    "def predict(words):\n",
    " context_idxs = np.array([word_to_ix[w] for w in words])\n",
    " preds = forward(context_idxs, theta)\n",
    " word = ix_to_word[np.argmax(preds[-1])]\n",
    " \n",
    " return word"
   ]
  },
  {
   "cell_type": "code",
   "execution_count": 22,
   "id": "387ba9bf",
   "metadata": {},
   "outputs": [
    {
     "data": {
      "text/plain": [
       "'about'"
      ]
     },
     "execution_count": 22,
     "metadata": {},
     "output_type": "execute_result"
    }
   ],
   "source": [
    "# (['we', 'are', 'to', 'study'], 'about')\n",
    "predict(['we', 'are', 'to', 'study'])\n"
   ]
  },
  {
   "cell_type": "code",
   "execution_count": 28,
   "id": "dda8df64",
   "metadata": {},
   "outputs": [
    {
     "data": {
      "text/plain": [
       "0.9814814814814815"
      ]
     },
     "execution_count": 28,
     "metadata": {},
     "output_type": "execute_result"
    }
   ],
   "source": [
    "#Accuracy\n",
    "def accuracy():\n",
    " wrong = 0\n",
    " for context, target in data:\n",
    "        if(predict(context) != target):\n",
    "             wrong += 1\n",
    " return (1 - (wrong / len(data)))\n",
    "accuracy()"
   ]
  },
  {
   "cell_type": "code",
   "execution_count": 29,
   "id": "18427763",
   "metadata": {},
   "outputs": [
    {
     "data": {
      "text/plain": [
       "'processes'"
      ]
     },
     "execution_count": 29,
     "metadata": {},
     "output_type": "execute_result"
    }
   ],
   "source": [
    "predict(['processes', 'manipulate', 'things', 'study'])"
   ]
  },
  {
   "cell_type": "code",
   "execution_count": null,
   "id": "57e13d46",
   "metadata": {},
   "outputs": [],
   "source": []
  }
 ],
 "metadata": {
  "kernelspec": {
   "display_name": "Python 3 (ipykernel)",
   "language": "python",
   "name": "python3"
  },
  "language_info": {
   "codemirror_mode": {
    "name": "ipython",
    "version": 3
   },
   "file_extension": ".py",
   "mimetype": "text/x-python",
   "name": "python",
   "nbconvert_exporter": "python",
   "pygments_lexer": "ipython3",
   "version": "3.9.7"
  }
 },
 "nbformat": 4,
 "nbformat_minor": 5
}
